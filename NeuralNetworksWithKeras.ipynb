{
 "cells": [
  {
   "cell_type": "markdown",
   "metadata": {},
   "source": [
    "# Image Recognition With Neural Networks In Keras\n",
    "\n",
    "------------\n",
    "\n",
    "## Contents\n",
    "\n",
    "------------\n",
    "\n",
    "__[1. Introduction](#Introduction)__\n",
    "\n",
    "__[2. Artificial Neural Networks](#second-bullet)__\n",
    "\n",
    "__[3. The MNST Dataset](#third-bullet)__\n",
    "\n",
    "__[4. Neural Networks In Keras](#fourth-bullet)__\n",
    "\n",
    "__[5. Conclusions](#fifth-bullet)__\n",
    "\n",
    "\n",
    "## Introduction <a class=\"anchor\" id=\"Introduction\"></a>\n",
    "\n",
    "----------\n",
    "\n",
    "Artifical intelligence, neural networks and deep learning (which are often used interchangeably) are gaining more and more noterarity everyday.  This is not only due to their amazing performance, but also because of their various applications.  From being able to detect <a href=\"http://www.nature.com/nature/journal/v542/n7639/full/nature21056.html?foxtrotcallback=true\">skin cancer</a> to generating <a href=\"https://www.engadget.com/2017/04/10/neural-network-pickup-lines/\">pickup lines</a>, neural networks are finding more ways to creep up into our lives.\n",
    "\n",
    "\n",
    "Research in the field of (artificial) neural networks originated from pattern recognition, and one of the original models introduced was called the <a href=\"https://en.wikipedia.org/wiki/Perceptron\">perceptron.</a>  A specific kind of Neural Network called the Multilayer Perceptron is an extension of this original work and I will use this model to do statistical pattern recognition. Specifically I'll be doing Optical Character Recogninition or ORC on the famous <a href=\"http://yann.lecun.com/exdb/mnist/\">MNIST</a> data set and using one of the most popular deep learning libraries, <a href=\"keras.io\">Keras</a>, to do so.\n"
   ]
  },
  {
   "cell_type": "markdown",
   "metadata": {},
   "source": [
    "## Artificial Neural Networks <a class=\"anchor\" id=\"second-bullet\"></a>\n",
    "\n",
    "In machine learning we are generally trying to find the relationship between some the **target variable** (that we are trying to predict), $y$, and the **feature variables** $\\textbf{x} \\in \\mathbb{R}^{p+1}$.  In many machine learning models we formulate the relationship as function $y(\\textbf{x}, \\textbf{w})$, where the weights $\\textbf{w} \\in \\mathbb{R}^{p+1}$ are determined by solving an optimization problem.  The form of $y(\\textbf{x}, \\textbf{w})$ depends on the problem. For linear regression it is,\n",
    "\n",
    "$$ y \\, = \\, \\textbf{w}^{T} \\textbf{x} $$\n",
    "\n",
    "Where as in logistic regression it is,\n",
    "\n",
    "$$ y \\, = \\, \\frac{1}{1 + \\exp(-\\textbf{w}^{T} \\textbf{x})} $$\n",
    "\n",
    "We can rewrite both these models as,\n",
    "\n",
    "$$ y(\\textbf{x}, \\textbf{w}) \\, = \\, f(\\textbf{w}^{T} \\textbf{x}) $$\n",
    "\n",
    "Where $f(\\cdot)$ is called the ** *activation function* ** and is\n",
    "\n",
    "- The identity operator for linear regresion\n",
    "\n",
    "and \n",
    "\n",
    "- The <a href=\"https://en.wikipedia.org/wiki/Sigmoid_function\">sigmoid</a> function for logistic regression \n",
    "\n",
    "\n",
    "We can generalize the above a little more introducing *fixed (possibly non-linear) basis functions* $\\boldsymbol \\phi : \\mathbb{R}^{p+1} \\rightarrow \\mathbb{R}^{p+1} $ to transform our feature vectors:\n",
    "\n",
    "$$ y(\\textbf{x}, \\textbf{w}) \\, = \\, f(\\textbf{w}^{T} \\boldsymbol \\phi(\\textbf{x})) $$\n",
    "\n",
    "This is what is called a <a href=\"https://en.wikipedia.org/wiki/Generalized_linear_model\">generalized linear model</a> and can be used to model many different phenomena. *The term linear comes from the fact besides the activation function, our model only depends linearly on the weights $\\textbf{w}$.*\n",
    "\n",
    "\n",
    "*Neural Networks are non-linear statitical models that allow the basis ($\\boldsymbol \\phi$) functions to depend on parameters along with the coefficients $(\\textbf{w})$ and can be adjusted during training.*  Artificial Neural networks are are composed on neurons or units that are connected to one another and organized in layers.  Below we see a two-layer neural network, where the input is our feature data, $\\textbf{x}$, and the output is the variable, $y$ that we are trying to predict:\n",
    "\n",
    "![ANN.png](ANN.png)\n",
    "\n",
    "Neurons have a state, generally represented by real numbers, typically between 0 and 1. Different layers may perform different kinds of transformations on their inputs or signals. These transformations can be thought of as the activation function acting on the signal.   Signals travel from the first (input), to the last (output) layer, possibly after traversing the layers multiple times.\n",
    "\n",
    "In order to compute the prediction of a value $y \\in \\mathbb{R}^{K}$ from a vector $\\textbf{x} \\in \\mathbb{R}^{p}$, \n",
    "We take a matrix $ A \\in \\mathbb{R}^{M \\times p} $, and also bias unit, $ \\textbf{c}_{1} \\in \\mathbb{R}^{M} $ and use them to compute the \"hidden unit\" (pictured in blue), with the transformation,\n",
    "\n",
    "$$ \\textbf{z} \\; = \\; \\textbf{h}(A \\, \\textbf{x} + \\textbf{c}_{1}) \\; = \\; h \\left( \\sum_{j} A_{i,j} \\, \\textbf{x}_{i} + \\textbf{c}_{1,i} \\right) $$\n",
    "\n",
    "Where $h(\\cdot)$ is the sigmoid function,\n",
    "\n",
    "$$ h(a) = \\frac{1}{1+ \\exp{(-a)}}$$\n",
    "\n",
    "$\\textbf{h}$ is used to represent the vector resulting from taking taking the sigmoid function of the input vector component wise.  The number $M$ is the number of hidden units in the neural network.  To transform the hidden unit values to predictions of target values (or the output), we use the matrix, $ B \\in \\mathbb{R}^{K \\times M} $ and the bias vector $ \\textbf{c}_{2} \\in \\mathbb{R}^{K} $ to compute the prediction $\\hat{y}$,\n",
    "\n",
    "\n",
    "$$ \\hat{y}(\\textbf{x}; \\, A, B, \\textbf{c}_{1}, \\textbf{c}_{2}) \\; = \\; f\\left(B \\, \\textbf{z} + c_{2}\\right) \\; = \\; f \\left( \\sum_{i} B_{i,j} \\,  \\textbf{z}_{j} + c_{2,i} \\right)$$ \n",
    "\n",
    "\n",
    "Or,\n",
    "\n",
    "\n",
    "$$ \\hat{y}(\\textbf{x}; \\, A, B, \\textbf{c}_{1}, \\textbf{c}_{2}) = f\\left(B \\; \\textbf{h}(A \\, \\textbf{x} + \\textbf{c}_{1})  + c_{2}\\right) $$ \n",
    "\n",
    "\n",
    "\n",
    "Where $f(\\cdot)$ is the either the identiy operator in regression, the sigmoid function in binary classification or the softmax function,  \n",
    "\n",
    "$$ f_{k}(z) = \\frac{\\exp(z_{k})}{\\sum_{i=1}^{K} \\exp(z_{k})} $$\n",
    "\n",
    "for $K$-class classification problems.  In the case of $K$-class classification problems, we choose the class which maximizes the softmax function.\n",
    "\n",
    "The process of computing the coefficients in $A, B, \\textbf{c}_{1} \\text{ and } \\textbf{c}_{2}$ is known as <a href=\"https://en.wikipedia.org/wiki/Backpropagation\">backpropegation</a>. Backpropegation is a complicated algorithm and as we'll see one of the nice thing about Keras is that all the details of the backpropegation get swept under the rug!"
   ]
  },
  {
   "cell_type": "markdown",
   "metadata": {},
   "source": [
    "## The MNIST Dataset\n",
    "\n",
    "------------\n",
    "\n",
    "I will access the MNIST data set from the <a href=\"https://www.tensorflow.org/\">TensorFlow</a> library.  One can acess the MNIST data from the Keras library, but I first worked with the TensorFlow version and found it more straight forward.  **Note the command below downloads the dataset, so you will need wifi in order to run it.**"
   ]
  },
  {
   "cell_type": "code",
   "execution_count": 2,
   "metadata": {
    "collapsed": false
   },
   "outputs": [
    {
     "name": "stdout",
     "output_type": "stream",
     "text": [
      "Extracting MNIST_data/train-images-idx3-ubyte.gz\n",
      "Extracting MNIST_data/train-labels-idx1-ubyte.gz\n",
      "Extracting MNIST_data/t10k-images-idx3-ubyte.gz\n",
      "Extracting MNIST_data/t10k-labels-idx1-ubyte.gz\n"
     ]
    }
   ],
   "source": [
    "from tensorflow.examples.tutorials.mnist import input_data\n",
    "mnist = input_data.read_data_sets(\"MNIST_data/\", one_hot=True)"
   ]
  },
  {
   "cell_type": "markdown",
   "metadata": {
    "collapsed": true
   },
   "source": [
    "One hot means that the if the <code>n</code>-th digit in the array is a 1 then the label for this datapoint is <code>n</code>. An example for numbers 1,...9, would be,\n",
    "\n",
    "$$0 = [1,0,0,0,0,0,0,0,0], \\text{ and } 7 = [0,0,0,0,0,0,1,0,0] $$ \n",
    "\n",
    "Now let's take a look at the size of our dataset:"
   ]
  },
  {
   "cell_type": "code",
   "execution_count": 3,
   "metadata": {
    "collapsed": false
   },
   "outputs": [
    {
     "name": "stdout",
     "output_type": "stream",
     "text": [
      "Number of training examples =  55000\n",
      "Number of testing examples =  10000\n"
     ]
    }
   ],
   "source": [
    "print(\"Number of training examples = \", mnist.train.num_examples)\n",
    "print(\"Number of testing examples = \", mnist.test.num_examples)"
   ]
  },
  {
   "cell_type": "markdown",
   "metadata": {
    "collapsed": false
   },
   "source": [
    "We can create variables for our training and test data sets. The variable $X_{\\text{train}}$ which contain the images for the training set and the variable $Y_{\\text{train}}$ contains the actual numbers that the training set images represent. We do the same for the test sets $X_{\\text{test}}$ and $Y_{\\text{test}}$."
   ]
  },
  {
   "cell_type": "code",
   "execution_count": 4,
   "metadata": {
    "collapsed": false
   },
   "outputs": [
    {
     "name": "stdout",
     "output_type": "stream",
     "text": [
      "Training dataset size =  (55000, 784)\n",
      "Training dataset labels =  (55000, 10)\n",
      "Test dataset size =  (10000, 784)\n",
      "Test dataset labels =  (10000, 10)\n"
     ]
    }
   ],
   "source": [
    "print(\"Training dataset size = \", mnist.train.images.shape)\n",
    "print(\"Training dataset labels = \", mnist.train.labels.shape)\n",
    "\n",
    "X_train = mnist.train.images\n",
    "Y_train = mnist.train.labels\n",
    "\n",
    "print(\"Test dataset size = \", mnist.test.images.shape)\n",
    "print(\"Test dataset labels = \",mnist.test.labels.shape)\n",
    "\n",
    "X_test  = mnist.test.images\n",
    "Y_test  = mnist.test.labels"
   ]
  },
  {
   "cell_type": "markdown",
   "metadata": {},
   "source": [
    "We see that the training set is a matrix of size 55,000 rows and 784 columns.  Each row reperesents an image in the data set, while each of columns represents a degree of freedom (grey scale of a pixel) in the image.  Let me explain what this means further. Each image of a number is $28 \\times 28$ pixels. This means that each image has $28 \\times 28 = 784$ degrees of freedom.  Instead of storing the images $28 \\times 28$ matrices they flattened them to vectors of size $1 \\times 784$.  We can view images by first converting the $1 \\times 784 $ vectors to $28 \\times 28$ matrices using the <a href=\"http://www.numpy.org/\">NumPy</a> library:"
   ]
  },
  {
   "cell_type": "code",
   "execution_count": 5,
   "metadata": {
    "collapsed": false
   },
   "outputs": [],
   "source": [
    "import numpy as np\n",
    "im = np.reshape(X_train[1,:], [28,28])"
   ]
  },
  {
   "cell_type": "markdown",
   "metadata": {},
   "source": [
    "And then look at the sparsity pattern of the matrix:"
   ]
  },
  {
   "cell_type": "code",
   "execution_count": 6,
   "metadata": {
    "collapsed": false
   },
   "outputs": [
    {
     "data": {
      "text/plain": [
       "<matplotlib.image.AxesImage at 0x12c5db128>"
      ]
     },
     "execution_count": 6,
     "metadata": {},
     "output_type": "execute_result"
    },
    {
     "data": {
      "image/png": "[encoded data removed]",
      "text/plain": [
       "<matplotlib.figure.Figure at 0x11887f668>"
      ]
     },
     "metadata": {},
     "output_type": "display_data"
    }
   ],
   "source": [
    "import matplotlib.pyplot as plt\n",
    "%matplotlib inline\n",
    "plt.spy(im)"
   ]
  },
  {
   "cell_type": "markdown",
   "metadata": {},
   "source": [
    "This just shows us all the entries in the matrix that are non-zero (the points which are black).  The pixels however actually have a grey scale value and by just looking at the sparsity pattern we can't see the different shadings in the pixels. \n",
    "\n",
    "Let's instead look at the values of the matrix entires.  These values reprsent the shading of grey for the corresponding pixel in the image.  We can do this using the <a href=\"https://matplotlib.org/devdocs/api/_as_gen/matplotlib.pyplot.imshow.html\">imshow</a> method from <a href=\"https://matplotlib.org\">matplotlib</a> library using the grey shading as our color map:"
   ]
  },
  {
   "cell_type": "code",
   "execution_count": 7,
   "metadata": {
    "collapsed": false
   },
   "outputs": [
    {
     "data": {
      "text/plain": [
       "<matplotlib.image.AxesImage at 0x12c79e470>"
      ]
     },
     "execution_count": 7,
     "metadata": {},
     "output_type": "execute_result"
    },
    {
     "data": {
      "image/png": "[encoded data removed]",
      "text/plain": [
       "<matplotlib.figure.Figure at 0x11887f9b0>"
      ]
     },
     "metadata": {},
     "output_type": "display_data"
    }
   ],
   "source": [
    "plt.imshow(im, cmap='Greys')"
   ]
  },
  {
   "cell_type": "markdown",
   "metadata": {},
   "source": [
    "Now, let's loop through a few of these images and also look at the image labels:"
   ]
  },
  {
   "cell_type": "code",
   "execution_count": 8,
   "metadata": {
    "collapsed": false
   },
   "outputs": [
    {
     "data": {
      "image/png": "[encoded data removed]",
      "text/plain": [
       "<matplotlib.figure.Figure at 0x1292989e8>"
      ]
     },
     "metadata": {},
     "output_type": "display_data"
    }
   ],
   "source": [
    "left= 2.5\n",
    "top = 2.5\n",
    "\n",
    "fig = plt.figure(figsize=(10,10))\n",
    "\n",
    "for i in range(6):\n",
    "    ax = fig.add_subplot(3,2,i+1)\n",
    "    \n",
    "    # reshape the training image from a 784 element array to a\n",
    "    # 28x28 pickle matrix\n",
    "    im = np.reshape(X_train[i,:], [28,28])\n",
    "\n",
    "    # get the actual digit for the image\n",
    "    label = np.argmax(Y_train[i,:])\n",
    "    \n",
    "    # show the image using color map grey scale\n",
    "    ax.imshow(im, cmap='Greys')\n",
    "    ax.text(left, top, str(label))"
   ]
  },
  {
   "cell_type": "markdown",
   "metadata": {},
   "source": [
    "The label of the of the numbers image is displayed in the upper left hand corner.\n",
    "\n",
    "\n",
    "Now that we have gotten an idea of the data we are working with let's jump into the machine learning!"
   ]
  },
  {
   "cell_type": "markdown",
   "metadata": {},
   "source": [
    "## Neural Networks In Keras <a class=\"anchor\" id=\"fourth-bullet\"></a>\n",
    "\n",
    "------------\n",
    "\n",
    "Keras is a library which makes working with neural networks easy and allows one to use either <a href=\"tensorflow.org\">TensorFlow</a> or <a href=\"http://deeplearning.net/software/theano/\">Theano</a> as a backend to do computations.  In order to use TensorFlow as a backend for Keras we have to change the file in `~/.keras/keras.json`:\n",
    "\n",
    "![./kera_json.png](./kera_json.png)\n",
    "\n",
    "In that file we change `backend` field to `tensorflow` instead of `theano`.  \n",
    "\n",
    "We'll be focusing on just using multilayer perceptrons in this post and in order to build them we must first import Keras <a href=\"https://keras.io/getting-started/sequential-model-guide/\">Sequential model</a>.  Using sequential models means that our neural network will just be a stack of layers of neurons or units:"
   ]
  },
  {
   "cell_type": "code",
   "execution_count": 8,
   "metadata": {
    "collapsed": false
   },
   "outputs": [
    {
     "name": "stderr",
     "output_type": "stream",
     "text": [
      "Using TensorFlow backend.\n"
     ]
    }
   ],
   "source": [
    "from keras.models import Sequential\n",
    "model = Sequential()"
   ]
  },
  {
   "cell_type": "markdown",
   "metadata": {},
   "source": [
    "For now we set our model to have 10 hidden units and 10 categories of output for numbers 1 - 9:"
   ]
  },
  {
   "cell_type": "code",
   "execution_count": 9,
   "metadata": {
    "collapsed": true
   },
   "outputs": [],
   "source": [
    "M = 10 # hidden units\n",
    "K = 10 # outputs"
   ]
  },
  {
   "cell_type": "markdown",
   "metadata": {},
   "source": [
    "Next, we import the `Dense` module from `keras.layers`.  Dense models have each layer connected to each other layer in a feed-forward architecture.  It also signifies that the underlying graph will be dense and can be stored as a matrix."
   ]
  },
  {
   "cell_type": "code",
   "execution_count": 10,
   "metadata": {
    "collapsed": true
   },
   "outputs": [],
   "source": [
    "from keras.layers import Dense"
   ]
  },
  {
   "cell_type": "markdown",
   "metadata": {},
   "source": [
    "The first layer in our model will have 784 inputs and $M$ outputs, that is our $A$ matrix will be $M \\times 784$. We create this matrix with the following command:"
   ]
  },
  {
   "cell_type": "code",
   "execution_count": 11,
   "metadata": {
    "collapsed": false
   },
   "outputs": [],
   "source": [
    "model.add(Dense(M, input_dim=784, activation='sigmoid'))"
   ]
  },
  {
   "cell_type": "markdown",
   "metadata": {},
   "source": [
    "Notice that we also say that our activation function ( $h$ ) will be a sigmoid function.\n",
    "\n",
    "We then add on another dense layer that has $K$ outputs:"
   ]
  },
  {
   "cell_type": "code",
   "execution_count": 12,
   "metadata": {
    "collapsed": false
   },
   "outputs": [],
   "source": [
    "model.add(Dense(K, activation='softmax'))"
   ]
  },
  {
   "cell_type": "markdown",
   "metadata": {},
   "source": [
    "Notice how after the first layer we do not have to specify the input dimension, Keras will automatically figure out that the `input_dim` is $M$. This last layer represents the $B$ matrix and will be $K \\times M$.  Since this is top layer we use the softmax as our activation function ( $f$ ).\n",
    "\n",
    "Finally, note that we do not add any biases $(\\textbf{c}_{1}, \\textbf{c}_{2})$ into our model.\n",
    "\n",
    "In Keras, we need to configure the learning process before we can train our model. Configuring the learning process is done via the `compile` method. The compile method receives three arguments:\n",
    "\n",
    "- the loss function\n",
    "- the optimizer to minimize the loss function\n",
    "- the metric to evaluate the performance of your predictions\n",
    "\n",
    "Since we are dealing with a multiclass classification problem we use the the `categorical_crossentropy` loss function.  We will use the default `adam` optimizer and choose `accuracy` as our metric:"
   ]
  },
  {
   "cell_type": "code",
   "execution_count": 13,
   "metadata": {
    "collapsed": false
   },
   "outputs": [],
   "source": [
    "model.compile(loss='categorical_crossentropy', optimizer='adam', metrics=['accuracy'])"
   ]
  },
  {
   "cell_type": "markdown",
   "metadata": {},
   "source": [
    "After we compile our model we can then fit the model to the training data.  The `fit` function recieves the input data and the labels/target values.  We must also specify the `batch_size` which is the number of samples used during a gradient descent update of the coefficients as well as the number of `epochs`:"
   ]
  },
  {
   "cell_type": "code",
   "execution_count": 14,
   "metadata": {
    "collapsed": false
   },
   "outputs": [
    {
     "name": "stdout",
     "output_type": "stream",
     "text": [
      "Epoch 1/20\n",
      "55000/55000 [==============================] - 2s - loss: 1.5593 - acc: 0.6432     \n",
      "Epoch 2/20\n",
      "55000/55000 [==============================] - 1s - loss: 0.8837 - acc: 0.8342     \n",
      "Epoch 3/20\n",
      "55000/55000 [==============================] - 1s - loss: 0.6385 - acc: 0.8655     \n",
      "Epoch 4/20\n",
      "55000/55000 [==============================] - 1s - loss: 0.5194 - acc: 0.8804     \n",
      "Epoch 5/20\n",
      "55000/55000 [==============================] - 1s - loss: 0.4484 - acc: 0.8925     \n",
      "Epoch 6/20\n",
      "55000/55000 [==============================] - 1s - loss: 0.4018 - acc: 0.8994     \n",
      "Epoch 7/20\n",
      "55000/55000 [==============================] - 1s - loss: 0.3684 - acc: 0.9048     \n",
      "Epoch 8/20\n",
      "55000/55000 [==============================] - 1s - loss: 0.3435 - acc: 0.9095     \n",
      "Epoch 9/20\n",
      "55000/55000 [==============================] - 1s - loss: 0.3242 - acc: 0.9130     \n",
      "Epoch 10/20\n",
      "55000/55000 [==============================] - 1s - loss: 0.3087 - acc: 0.9157     \n",
      "Epoch 11/20\n",
      "55000/55000 [==============================] - 1s - loss: 0.2960 - acc: 0.9183     \n",
      "Epoch 12/20\n",
      "55000/55000 [==============================] - 1s - loss: 0.2859 - acc: 0.9201     \n",
      "Epoch 13/20\n",
      "55000/55000 [==============================] - 1s - loss: 0.2771 - acc: 0.9215     \n",
      "Epoch 14/20\n",
      "55000/55000 [==============================] - 1s - loss: 0.2694 - acc: 0.9224     \n",
      "Epoch 15/20\n",
      "55000/55000 [==============================] - 1s - loss: 0.2631 - acc: 0.9245     \n",
      "Epoch 16/20\n",
      "55000/55000 [==============================] - 1s - loss: 0.2575 - acc: 0.9257     \n",
      "Epoch 17/20\n",
      "55000/55000 [==============================] - 1s - loss: 0.2525 - acc: 0.9271     \n",
      "Epoch 18/20\n",
      "55000/55000 [==============================] - 2s - loss: 0.2476 - acc: 0.9285     \n",
      "Epoch 19/20\n",
      "55000/55000 [==============================] - 1s - loss: 0.2436 - acc: 0.9295     \n",
      "Epoch 20/20\n",
      "55000/55000 [==============================] - 1s - loss: 0.2394 - acc: 0.9312     \n"
     ]
    },
    {
     "data": {
      "text/plain": [
       "<keras.callbacks.History at 0x125c6fa58>"
      ]
     },
     "execution_count": 14,
     "metadata": {},
     "output_type": "execute_result"
    }
   ],
   "source": [
    "# Fit the model\n",
    "model.fit(X_train, Y_train, epochs=20, batch_size=128, )"
   ]
  },
  {
   "cell_type": "markdown",
   "metadata": {},
   "source": [
    "We can then evaluate the accuracy of our model on the test set data using the `evaluate` function:"
   ]
  },
  {
   "cell_type": "code",
   "execution_count": 18,
   "metadata": {
    "collapsed": false
   },
   "outputs": [
    {
     "name": "stdout",
     "output_type": "stream",
     "text": [
      " 8960/10000 [=========================>....] - ETA: 0sTest loss: 0.253042970234\n",
      "Test accuracy: 0.9238\n"
     ]
    }
   ],
   "source": [
    "scores = model.evaluate(X_test, Y_test)\n",
    "print('Test loss:', scores[0])\n",
    "print('Test accuracy:', scores[1])"
   ]
  },
  {
   "cell_type": "markdown",
   "metadata": {},
   "source": [
    "Our model achieves $92.38\\%$ accuracy, which is not much better than using multinomial logistic regression that was in the TensorFlow tutorial <a href=\"https://www.tensorflow.org/get_started/mnist/beginners\">here</a>. \n"
   ]
  },
  {
   "cell_type": "markdown",
   "metadata": {},
   "source": [
    "One way to improve the accuracy is to increase the number of hidden units.  Increasing the number of hidden units will increase the complexity of our model and allow it to pick up more subtle characteristics of the input variables. \n",
    "\n",
    "Instead of going through the same process as above for a different value of $M$ we will write out a function to take in a vaiable, $M$ (or number of hidden units) and returns the training and test accuracy of that model:"
   ]
  },
  {
   "cell_type": "code",
   "execution_count": 21,
   "metadata": {
    "collapsed": false
   },
   "outputs": [],
   "source": [
    "def evaluate_model(M, K, X_train, Y_train, X_test, Y_test):\n",
    "    \"\"\"\n",
    "    Trains a 2-layer MLP and returns the test accuracy.\n",
    "    \n",
    "    :paramaters:\n",
    "    ------------\n",
    "    M (int) : Number of Neurons in the hidden layer.\n",
    "    K (int) : Number of outputs.\n",
    "    X_train (NumPy array) : Training data\n",
    "    Y_train (NumPy array) : Training labels\n",
    "    X_test  (Numpy array) : Test data\n",
    "    Y_test  (NumPy array) : Test labels\n",
    "    \n",
    "    :returns: The accuarcy of the model on the test set\n",
    "    :rvalue: float\n",
    "    \"\"\"\n",
    "    model = Sequential()\n",
    "    \n",
    "    model.add(Dense(M, \n",
    "                    input_dim=784, \n",
    "                    activation='sigmoid'))\n",
    "    \n",
    "    model.add(Dense(K, \n",
    "                    activation='softmax'))\n",
    "    \n",
    "    model.compile(loss='categorical_crossentropy', \n",
    "                  optimizer='adam', \n",
    "                  metrics=['accuracy'])\n",
    "    \n",
    "    model.fit(X_train, Y_train, \n",
    "               epochs=20, \n",
    "               batch_size=128, \n",
    "               verbose=0)\n",
    "    \n",
    "    training_scores = model.evaluate(X_train, Y_train)\n",
    "    test_scores     = model.evaluate(X_test, Y_test)\n",
    "\n",
    "    return (training_scores[1], test_scores[1])"
   ]
  },
  {
   "cell_type": "markdown",
   "metadata": {
    "collapsed": true
   },
   "source": [
    "We can then train our model using 100 hidden units and see the training and test set accuracy:"
   ]
  },
  {
   "cell_type": "code",
   "execution_count": 22,
   "metadata": {
    "collapsed": false
   },
   "outputs": [
    {
     "name": "stdout",
     "output_type": "stream",
     "text": [
      " 9920/10000 [============================>.] - ETA: 0s\n",
      "Train accuracy:  0.9916\n",
      "Test accuracy:  0.9749\n"
     ]
    }
   ],
   "source": [
    "score = evaluate_model(100, K, X_train, Y_train, X_test, Y_test)\n",
    "\n",
    "print(\"\\nTrain accuracy: \", score[0])\n",
    "print(\"Test accuracy: \", score[1])"
   ]
  },
  {
   "cell_type": "markdown",
   "metadata": {},
   "source": [
    "We can see that the test set accuracy has improved with the number of hidden units!\n",
    "\n",
    "\n",
    "Let's loop over the number of hidden units and see if the there is a saturation point at which increasing the number of hidden units does not greatly enhance the predictive performance."
   ]
  },
  {
   "cell_type": "code",
   "execution_count": 24,
   "metadata": {
    "collapsed": false
   },
   "outputs": [
    {
     "name": "stdout",
     "output_type": "stream",
     "text": [
      " 9600/10000 [===========================>..] - ETA: 0s"
     ]
    }
   ],
   "source": [
    "num_units   = [10, 25, 50, 100, 150, 200]\n",
    "scores      = [evaluate_model(i, K, X_train, Y_train, X_test, Y_test) for i in num_units]"
   ]
  },
  {
   "cell_type": "code",
   "execution_count": 25,
   "metadata": {
    "collapsed": false
   },
   "outputs": [
    {
     "data": {
      "text/plain": [
       "<matplotlib.legend.Legend at 0x11a4e4208>"
      ]
     },
     "execution_count": 25,
     "metadata": {},
     "output_type": "execute_result"
    },
    {
     "data": {
      "image/png": "[encoded data removed]",
      "text/plain": [
       "<matplotlib.figure.Figure at 0x11a3cca90>"
      ]
     },
     "metadata": {},
     "output_type": "display_data"
    }
   ],
   "source": [
    "train_scores = [scores[i][0] for i in range(len(scores))]\n",
    "test_scores  = [scores[i][1] for i in range(len(scores))]\n",
    "\n",
    "plt.figure(figsize=(7,5))\n",
    "plt.plot(num_units, train_scores, label='Training Set Accuracy')\n",
    "plt.plot(num_units, test_scores, label='Test Set Accuracy')\n",
    "plt.title(\"Training and Test Set Accuracy\")\n",
    "plt.xlabel(\"Number of Hidden Units\")\n",
    "plt.ylabel(\"Accuracy (%)\")\n",
    "plt.legend()"
   ]
  },
  {
   "cell_type": "markdown",
   "metadata": {
    "collapsed": false
   },
   "source": [
    "We can see that increasing the number of hidden units past 100 does not greatly enahance the accuracy of the model.  Additionally, increasing the number of hidden units increases the training time. Both these points dictates that we should look for new methods instead of blindly increaseing the number of hidden units of our model.\n",
    "\n",
    "Instead of increasing the number of hidden units to improve performance we can look to use more sophisticated models like <a href=\"https://en.wikipedia.org/wiki/Convolutional_neural_network\">convolutional neural networks</a>, but that will have to wait for another time!"
   ]
  },
  {
   "cell_type": "markdown",
   "metadata": {},
   "source": [
    "## Conclusion <a class=\"anchor\" id=\"fifth-bullet\"></a>\n",
    "------------\n",
    "In this post we looked at using the Keras library to develop a multilayer perceptron model for image recognition and developed model that was able to get $97.5\\%$ accuracy on the MNIST data set.  In the future I'll be adding more to this post so check back at a later time!"
   ]
  }
 ],
 "metadata": {
  "anaconda-cloud": {},
  "kernelspec": {
   "display_name": "Python [conda env:py35]",
   "language": "python",
   "name": "conda-env-py35-py"
  },
  "language_info": {
   "codemirror_mode": {
    "name": "ipython",
    "version": 3
   },
   "file_extension": ".py",
   "mimetype": "text/x-python",
   "name": "python",
   "nbconvert_exporter": "python",
   "pygments_lexer": "ipython3",
   "version": "3.5.3"
  }
 },
 "nbformat": 4,
 "nbformat_minor": 1
}
